{
  "nbformat": 4,
  "nbformat_minor": 0,
  "metadata": {
    "colab": {
      "provenance": [],
      "collapsed_sections": [],
      "authorship_tag": "ABX9TyPauikRyd0u3B+6YAPQuSSh",
      "include_colab_link": true
    },
    "kernelspec": {
      "name": "python3",
      "display_name": "Python 3"
    },
    "language_info": {
      "name": "python"
    }
  },
  "cells": [
    {
      "cell_type": "markdown",
      "metadata": {
        "id": "view-in-github",
        "colab_type": "text"
      },
      "source": [
        "<a href=\"https://colab.research.google.com/github/JVMoreiraD/IA-ATV02/blob/main/IA_Atv2_RNA.ipynb\" target=\"_parent\"><img src=\"https://colab.research.google.com/assets/colab-badge.svg\" alt=\"Open In Colab\"/></a>"
      ]
    },
    {
      "cell_type": "code",
      "source": [
        "import numpy as np\n",
        "from random import random\n",
        "import math\n",
        "import matplotlib.pyplot as plt"
      ],
      "metadata": {
        "id": "GBao2MQmAZQm"
      },
      "execution_count": null,
      "outputs": []
    },
    {
      "cell_type": "code",
      "source": [
        "def plot_linear_classifier(inputs, outputs, w, bias):\n",
        "    x1_min, x1_max = inputs[:,0].min(), inputs[:,0].max()\n",
        "    x2_min, x2_max = inputs[:,1].min(), inputs[:,1].max()\n",
        "\n",
        "    x1, x2 = np.meshgrid(np.linspace(x1_min-1, x1_max+1,100), np.linspace(x2_min-1, x2_max+1, 100))\n",
        "    x_mesh = np.array([x1.ravel(), x2.ravel()]).T\n",
        "\n",
        "    plt.scatter(inputs[:,0], inputs[:,1], c=outputs.ravel(), cmap='bwr')\n",
        "\n",
        "    y_mesh = np.dot(x_mesh, np.array(w).reshape(1, -1).T) + bias\n",
        "    y_mesh = np.where(y_mesh <= 0, 0, 1)\n",
        "\n",
        "    plt.contourf(x1, x2, y_mesh.reshape(x1.shape), cmap='bwr', alpha=0.5)\n",
        "    plt.xlim(x1_min-1, x1_max+1)\n",
        "    plt.ylim(x2_min-1, x2_max+1)\n",
        "\n"
      ],
      "metadata": {
        "id": "FDy5wzgZWLNz"
      },
      "execution_count": null,
      "outputs": []
    },
    {
      "cell_type": "markdown",
      "source": [
        "1. Implemente a perceptron simples para resolver o problema da porta NAND?\n",
        "\n",
        "\n"
      ],
      "metadata": {
        "id": "6AF-5iAnCeIQ"
      }
    },
    {
      "cell_type": "code",
      "execution_count": null,
      "metadata": {
        "colab": {
          "base_uri": "https://localhost:8080/"
        },
        "id": "4gxC4_niCdZ7",
        "outputId": "9c05b9e0-66c9-4cc1-dfe9-7b15e1e9ddc1"
      },
      "outputs": [
        {
          "output_type": "stream",
          "name": "stdout",
          "text": [
            "\n",
            "w:  [-0.9849748719135354, -0.98645002412133]\n",
            "bias:  0.002620142888220243\n",
            "outputs_prediction: [ 1.97404504e+00  1.14499068e-03  4.09529510e-03 -1.96880475e+00]\n"
          ]
        }
      ],
      "source": [
        "inputs = np.array([[-1, -1], [-1, 1], [1, -1], [1, 1]])\n",
        "outputs = np.array([1, 1, 1, -1]).T # porta NAND\n",
        "\n",
        "w = [2*random() - 1, 2*random() - 1]\n",
        "bias = 2*random() -1\n",
        "max_interations = 100\n",
        "\n",
        "eta = 0.01 # Taxa de aprendizagem\n",
        "\n",
        "for step in range(max_interations):\n",
        "  cost = 0\n",
        "  for inputs_n, outputs_n in zip(inputs, outputs):\n",
        "\n",
        "    outputs_prediction = sum([inputs_i*w_i for inputs_i, w_i in zip(inputs_n, w)]) + bias\n",
        "\n",
        "    if(outputs_prediction > 0):\n",
        "      outputs_prediction = 1\n",
        "    else:\n",
        "      outputs_prediction = 0\n",
        "\n",
        "    error = outputs_n - outputs_prediction\n",
        "    w = [ w_i + eta*error*inputs_i for inputs_i, w_i in zip(inputs_n, w)]\n",
        "    bias += eta*error\n",
        "    cost += error**2\n",
        "print()\n",
        "print('w: ', w)\n",
        "print('bias: ', bias)\n",
        "print('outputs_prediction: {0}'.format(np.dot(inputs, np.array(w)) + bias))\n"
      ]
    },
    {
      "cell_type": "code",
      "source": [
        "plot_linear_classifier(inputs, outputs, w, bias)\n"
      ],
      "metadata": {
        "id": "VoIxl1cvWLuh",
        "colab": {
          "base_uri": "https://localhost:8080/",
          "height": 269
        },
        "outputId": "0715fc8b-93f0-4a3b-b534-72592505ef0e"
      },
      "execution_count": null,
      "outputs": [
        {
          "output_type": "display_data",
          "data": {
            "text/plain": [
              "<Figure size 432x288 with 1 Axes>"
            ],
            "image/png": "[encoded data removed]"
          },
          "metadata": {
            "needs_background": "light"
          }
        }
      ]
    },
    {
      "cell_type": "markdown",
      "source": [
        "3. Implemente a perceptron simples para resolver o problema da porta NOR?\n"
      ],
      "metadata": {
        "id": "XzLLs_oor0RW"
      }
    },
    {
      "cell_type": "code",
      "source": [
        "import numpy as np\n",
        "from random import random\n",
        "import math\n",
        "import matplotlib.pyplot as plt\n",
        "\n",
        "inputs = np.array([[-1, -1], [-1, 1], [1, -1], [1, 1]])\n",
        "outputs = np.array([1, -1, -1, -1]).T # porta NOR\n",
        "max_interations = 100\n",
        "\n",
        "w = [2*random() - 1, 2*random() - 1]\n",
        "bias = 2*random() -1\n",
        "\n",
        "eta = 0.01 # Taxa de aprendizagem\n",
        "\n",
        "for step in range(max_interations):\n",
        "  cost = 0\n",
        "  for inputs_n, outputs_n in zip(inputs, outputs):\n",
        "\n",
        "    outputs_prediction = sum([inputs_i*w_i for inputs_i, w_i in zip(inputs_n, w)]) + bias\n",
        "\n",
        "    if(outputs_prediction > 0):\n",
        "      outputs_prediction = 1\n",
        "    else:\n",
        "      outputs_prediction = 0\n",
        "\n",
        "    error = outputs_n - outputs_prediction\n",
        "    w = [ w_i + eta*error*inputs_i for inputs_i, w_i in zip(inputs_n, w)]\n",
        "    bias += eta*error\n",
        "    cost += error**2\n",
        "\n",
        "\n",
        "print('w: ', w)\n",
        "print('bias: ', bias)\n",
        "print('outputs_prediction: {0}'.format(np.dot(inputs, np.array(w)) + bias))"
      ],
      "metadata": {
        "id": "Bf-hIlmrWMF2",
        "colab": {
          "base_uri": "https://localhost:8080/"
        },
        "outputId": "c7071913-6e97-41e3-f587-ab8206feba6c"
      },
      "execution_count": null,
      "outputs": [
        {
          "output_type": "stream",
          "name": "stdout",
          "text": [
            "w:  [-1.6468818209276914, -1.23852474387084]\n",
            "bias:  -2.8722872836868887\n",
            "outputs_prediction: [ 0.01311928 -2.46393021 -3.28064436 -5.75769385]\n"
          ]
        }
      ]
    },
    {
      "cell_type": "code",
      "source": [
        "plot_linear_classifier(inputs, outputs, w, bias)\n"
      ],
      "metadata": {
        "colab": {
          "base_uri": "https://localhost:8080/",
          "height": 269
        },
        "id": "b40DktC1r9HZ",
        "outputId": "bceb50f9-d946-4bf7-bea0-19468694a5a5"
      },
      "execution_count": null,
      "outputs": [
        {
          "output_type": "display_data",
          "data": {
            "text/plain": [
              "<Figure size 432x288 with 1 Axes>"
            ],
            "image/png": "[encoded data removed]"
          },
          "metadata": {
            "needs_background": "light"
          }
        }
      ]
    },
    {
      "cell_type": "markdown",
      "source": [
        "2. Implemente a Adaline para o mesmo problema da questão “1”"
      ],
      "metadata": {
        "id": "Kdko9uBhvVy8"
      }
    },
    {
      "cell_type": "code",
      "source": [
        "import numpy as np\n",
        "from random import random\n",
        "import math\n",
        "import matplotlib.pyplot as plt\n",
        "\n",
        "inputs = np.array([[-1, -1], [-1, 1], [1, -1], [1, 1]])\n",
        "outputs = np.array([1, 1, 1, -1]).T # porta NAND\n",
        "max_interations = 100\n",
        "\n",
        "w = [2*random() - 1, 2*random() - 1]\n",
        "bias = 2*random() -1\n",
        "\n",
        "eta = 0.01 # Taxa de aprendizagem\n",
        "\n",
        "for step in range(max_interations):\n",
        "  cost = 0\n",
        "  for inputs_n, outputs_n in zip(inputs, outputs):\n",
        "\n",
        "    outputs_prediction = sum([inputs_i*w_i for inputs_i, w_i in zip(inputs_n, w)]) + bias\n",
        "\n",
        "    error = outputs_n - outputs_prediction\n",
        "    w = [ w_i + eta*error*inputs_i for inputs_i, w_i in zip(inputs_n, w)]\n",
        "    bias += eta*error\n",
        "    cost += error**2\n",
        "\n",
        "print('w: ', w)\n",
        "print('bias: ', bias)\n",
        "print('outputs_prediction: {0}'.format(np.dot(inputs, np.array(w)) + bias))"
      ],
      "metadata": {
        "colab": {
          "base_uri": "https://localhost:8080/"
        },
        "id": "9tyoZRpyvjYx",
        "outputId": "5e938c05-3df4-4c32-def9-4fe33e623f50"
      },
      "execution_count": null,
      "outputs": [
        {
          "output_type": "stream",
          "name": "stdout",
          "text": [
            "w:  [-0.5102120997030035, -0.49284049572769345]\n",
            "bias:  0.49744788914648214\n",
            "outputs_prediction: [ 1.50050048  0.51481949  0.48007629 -0.50560471]\n"
          ]
        }
      ]
    },
    {
      "cell_type": "code",
      "source": [
        "plot_linear_classifier(inputs, outputs, w, bias)\n"
      ],
      "metadata": {
        "colab": {
          "base_uri": "https://localhost:8080/",
          "height": 269
        },
        "id": "5lmRrcLLwDQd",
        "outputId": "94f0c1b1-8ca6-4cca-e237-66f1e8f1f6dc"
      },
      "execution_count": null,
      "outputs": [
        {
          "output_type": "display_data",
          "data": {
            "text/plain": [
              "<Figure size 432x288 with 1 Axes>"
            ],
            "image/png": "[encoded data removed]"
          },
          "metadata": {
            "needs_background": "light"
          }
        }
      ]
    },
    {
      "cell_type": "markdown",
      "source": [
        "4. Implemente a Adaline para o mesmo problema da questão “3”"
      ],
      "metadata": {
        "id": "tGaCMBGGwH0J"
      }
    },
    {
      "cell_type": "code",
      "source": [
        "import numpy as np\n",
        "from random import random\n",
        "import math\n",
        "import matplotlib.pyplot as plt\n",
        "\n",
        "inputs = np.array([[-1, -1], [-1, 1], [1, -1], [1, 1]])\n",
        "outputs = np.array([1, -1, -1, -1]).T # porta NOR\n",
        "max_interations = 100\n",
        "\n",
        "w = [2*random() - 1, 2*random() - 1]\n",
        "bias = 2*random() -1\n",
        "\n",
        "eta = 0.01 # Taxa de aprendizagem\n",
        "\n",
        "for step in range(max_interations):\n",
        "  cost = 0\n",
        "  for inputs_n, outputs_n in zip(inputs, outputs):\n",
        "\n",
        "    outputs_prediction = sum([inputs_i*w_i for inputs_i, w_i in zip(inputs_n, w)]) + bias\n",
        "\n",
        "    error = outputs_n - outputs_prediction\n",
        "    w = [ w_i + eta*error*inputs_i for inputs_i, w_i in zip(inputs_n, w)]\n",
        "    bias += eta*error\n",
        "    cost += error**2\n",
        "\n",
        "print('w: ', w)\n",
        "print('bias: ', bias)\n",
        "print('outputs_prediction: {0}'.format(np.dot(inputs, np.array(w)) + bias))"
      ],
      "metadata": {
        "colab": {
          "base_uri": "https://localhost:8080/"
        },
        "id": "21Km-BmcwHgS",
        "outputId": "12e4b25c-f523-41b4-a495-50d17669e147"
      },
      "execution_count": null,
      "outputs": [
        {
          "output_type": "stream",
          "name": "stdout",
          "text": [
            "w:  [-0.47290723603989365, -0.496470042305312]\n",
            "bias:  -0.4955770414175149\n",
            "outputs_prediction: [ 0.47380024 -0.51913985 -0.47201424 -1.46495432]\n"
          ]
        }
      ]
    },
    {
      "cell_type": "code",
      "source": [
        "plot_linear_classifier(inputs, outputs, w, bias)\n"
      ],
      "metadata": {
        "colab": {
          "base_uri": "https://localhost:8080/",
          "height": 269
        },
        "id": "oz_vOuQ3wXxU",
        "outputId": "65c669e3-7550-42c4-e469-5cfe890960bf"
      },
      "execution_count": null,
      "outputs": [
        {
          "output_type": "display_data",
          "data": {
            "text/plain": [
              "<Figure size 432x288 with 1 Axes>"
            ],
            "image/png": "[encoded data removed]"
          },
          "metadata": {
            "needs_background": "light"
          }
        }
      ]
    }
  ]
}